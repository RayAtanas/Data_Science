{
 "cells": [
  {
   "cell_type": "code",
   "execution_count": 26,
   "id": "8809b9be",
   "metadata": {},
   "outputs": [],
   "source": [
    "import numpy as np "
   ]
  },
  {
   "cell_type": "code",
   "execution_count": 27,
   "id": "a8f0daa5",
   "metadata": {},
   "outputs": [],
   "source": [
    "a1 = np.array([1,2,3,4])"
   ]
  },
  {
   "cell_type": "code",
   "execution_count": 28,
   "id": "ad70705a",
   "metadata": {},
   "outputs": [],
   "source": [
    "np.ndarray"
   ]
  },
  {
   "cell_type": "code",
   "execution_count": 29,
   "id": "e631d34c",
   "metadata": {},
   "outputs": [],
   "source": [
    "a2 = np.array([1,5,6,7])"
   ]
  },
  {
   "cell_type": "code",
   "execution_count": 30,
   "id": "1a55909f",
   "metadata": {},
   "outputs": [],
   "source": [
    "a3 = np.array([\n",
    "    [\n",
    "        [1,2,3],\n",
    "        [3,4,5],\n",
    "        [5,6,7]\n",
    "    ],\n",
    "    [\n",
    "        [1,3,5],\n",
    "        [2,4,6],\n",
    "        [1,6,9]\n",
    "    ]\n",
    "\n",
    "])"
   ]
  },
  {
   "cell_type": "code",
   "execution_count": 31,
   "id": "ddbfe623",
   "metadata": {},
   "outputs": [],
   "source": [
    "a3"
   ]
  },
  {
   "cell_type": "code",
   "execution_count": 7,
   "id": "c027d9b0",
   "metadata": {},
   "outputs": [],
   "source": [
    "a3.shape"
   ]
  },
  {
   "cell_type": "code",
   "execution_count": 8,
   "id": "59b62e8e",
   "metadata": {},
   "outputs": [],
   "source": [
    "type(a3)"
   ]
  },
  {
   "cell_type": "code",
   "execution_count": 9,
   "id": "6e492066",
   "metadata": {},
   "outputs": [],
   "source": [
    "a3.shape"
   ]
  },
  {
   "cell_type": "code",
   "execution_count": 10,
   "id": "99481be9",
   "metadata": {},
   "outputs": [],
   "source": [
    "sample = np.array([1,2,3])"
   ]
  },
  {
   "cell_type": "code",
   "execution_count": 11,
   "id": "6fd97c6c",
   "metadata": {},
   "outputs": [],
   "source": [
    "ones = np.ones([2,3])"
   ]
  },
  {
   "cell_type": "code",
   "execution_count": 12,
   "id": "9c1f7666",
   "metadata": {},
   "outputs": [],
   "source": [
    "ones"
   ]
  },
  {
   "cell_type": "code",
   "execution_count": 13,
   "id": "b3621980",
   "metadata": {},
   "outputs": [],
   "source": [
    "range = np.arange(0,10,2)"
   ]
  },
  {
   "cell_type": "code",
   "execution_count": 14,
   "id": "ce6c6d60",
   "metadata": {},
   "outputs": [],
   "source": [
    "range"
   ]
  },
  {
   "cell_type": "code",
   "execution_count": 32,
   "id": "641eec2e",
   "metadata": {},
   "outputs": [],
   "source": [
    "\n",
    "randomarray = np.random.randint(0,10,size = (3,5))\n",
    "randomarray"
   ]
  },
  {
   "cell_type": "code",
   "execution_count": 33,
   "id": "c804576e",
   "metadata": {},
   "outputs": [],
   "source": [
    "random2 = np.random.rand(5,3)"
   ]
  },
  {
   "cell_type": "code",
   "execution_count": 17,
   "id": "3bc5a115",
   "metadata": {},
   "outputs": [],
   "source": [
    "random2"
   ]
  },
  {
   "cell_type": "code",
   "execution_count": 18,
   "id": "e25d1f52",
   "metadata": {},
   "outputs": [],
   "source": [
    "np.unique(random2)"
   ]
  },
  {
   "cell_type": "code",
   "execution_count": 19,
   "id": "b6339b1e",
   "metadata": {},
   "outputs": [],
   "source": [
    "ultimate = np.random.random(1000)"
   ]
  },
  {
   "cell_type": "code",
   "execution_count": 20,
   "id": "0698992e",
   "metadata": {},
   "outputs": [],
   "source": [
    "%timeit np.sum(ultimate)"
   ]
  },
  {
   "cell_type": "code",
   "execution_count": 21,
   "id": "9ef71b7d",
   "metadata": {},
   "outputs": [],
   "source": [
    "from matplotlib.image import imread"
   ]
  },
  {
   "cell_type": "code",
   "execution_count": 34,
   "id": "6cb97968",
   "metadata": {},
   "outputs": [],
   "source": [
    "panda = imread(\"data/panda.png\")"
   ]
  },
  {
   "cell_type": "code",
   "execution_count": 23,
   "id": "8e0a6ea4",
   "metadata": {},
   "outputs": [],
   "source": [
    "print(type(panda))"
   ]
  },
  {
   "cell_type": "code",
   "execution_count": 24,
   "id": "9b490e07",
   "metadata": {},
   "outputs": [],
   "source": [
    "panda"
   ]
  },
  {
   "cell_type": "code",
   "execution_count": null,
   "id": "80e5e35f",
   "metadata": {},
   "outputs": [],
   "source": []
  }
 ],
 "metadata": {
  "kernelspec": {
   "display_name": "Python 3 (ipykernel)",
   "language": "python",
   "name": "python3"
  },
  "language_info": {
   "codemirror_mode": {
    "name": "ipython",
    "version": 3
   },
   "file_extension": ".py",
   "mimetype": "text/x-python",
   "name": "python",
   "nbconvert_exporter": "python",
   "pygments_lexer": "ipython3",
   "version": "3.11.3"
  }
 },
 "nbformat": 4,
 "nbformat_minor": 5
}
